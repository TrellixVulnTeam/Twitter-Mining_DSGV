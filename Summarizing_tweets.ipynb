{
 "cells": [
  {
   "cell_type": "markdown",
   "metadata": {},
   "source": [
    "# Extracting Situational Tweets"
   ]
  },
  {
   "cell_type": "code",
   "execution_count": 1,
   "metadata": {},
   "outputs": [],
   "source": [
    "import re\n",
    "\n",
    "import numpy as np\n",
    "import pandas as pd\n",
    "from nltk.tokenize import TweetTokenizer\n",
    "from nltk import pos_tag, ne_chunk\n",
    "from nltk.chunk import conlltags2tree, tree2conlltags\n",
    "from nltk.tag.stanford import StanfordNERTagger\n",
    "import nltk\n",
    "\n",
    "from tqdm import *\n",
    "from pprint import pprint"
   ]
  },
  {
   "cell_type": "markdown",
   "metadata": {},
   "source": [
    "Getting all the tweets from the twitter api and then saving it here"
   ]
  },
  {
   "cell_type": "code",
   "execution_count": 2,
   "metadata": {},
   "outputs": [],
   "source": [
    "tweets = pd.read_csv('./tweet.csv',encoding='ISO-8859-1')"
   ]
  },
  {
   "cell_type": "markdown",
   "metadata": {},
   "source": [
    "## Data Preprocessing"
   ]
  },
  {
   "cell_type": "code",
   "execution_count": 3,
   "metadata": {
    "scrolled": true
   },
   "outputs": [
    {
     "data": {
      "text/html": [
       "<div>\n",
       "<style scoped>\n",
       "    .dataframe tbody tr th:only-of-type {\n",
       "        vertical-align: middle;\n",
       "    }\n",
       "\n",
       "    .dataframe tbody tr th {\n",
       "        vertical-align: top;\n",
       "    }\n",
       "\n",
       "    .dataframe thead th {\n",
       "        text-align: right;\n",
       "    }\n",
       "</style>\n",
       "<table border=\"1\" class=\"dataframe\">\n",
       "  <thead>\n",
       "    <tr style=\"text-align: right;\">\n",
       "      <th></th>\n",
       "      <th>date</th>\n",
       "      <th>username</th>\n",
       "      <th>retweets</th>\n",
       "      <th>text</th>\n",
       "      <th>mentions</th>\n",
       "      <th>hashtags</th>\n",
       "    </tr>\n",
       "  </thead>\n",
       "  <tbody>\n",
       "    <tr>\n",
       "      <th>1</th>\n",
       "      <td>6/4/2019 16:10</td>\n",
       "      <td>SRKKeralaFC</td>\n",
       "      <td>30</td>\n",
       "      <td>Schools are gonna open this week all over Kera...</td>\n",
       "      <td>@SRKCHENNAIFCpic</td>\n",
       "      <td>#KeralaFloods</td>\n",
       "    </tr>\n",
       "    <tr>\n",
       "      <th>3</th>\n",
       "      <td>6/3/2019 6:55</td>\n",
       "      <td>JustOutNews</td>\n",
       "      <td>0</td>\n",
       "      <td>Govt to construct four new dams in Kerala; aim...</td>\n",
       "      <td>@CPIMKerala @keralagovernment</td>\n",
       "      <td>#kerala #keralafloods #StateNews #CurrentUpdat...</td>\n",
       "    </tr>\n",
       "    <tr>\n",
       "      <th>5</th>\n",
       "      <td>5/29/2019 14:24</td>\n",
       "      <td>dipalisharma02</td>\n",
       "      <td>5</td>\n",
       "      <td>Chairperson Ms. T.K.Sathi along with Ward Coun...</td>\n",
       "      <td>@ActionAidIndia @caretoday</td>\n",
       "      <td>#keralafloods</td>\n",
       "    </tr>\n",
       "    <tr>\n",
       "      <th>10</th>\n",
       "      <td>5/28/2019 15:36</td>\n",
       "      <td>vssanakan</td>\n",
       "      <td>4</td>\n",
       "      <td>Hearty Congratulations!!! Biji Thomas of @mano...</td>\n",
       "      <td>@manoramanews</td>\n",
       "      <td>#KeralaFloods</td>\n",
       "    </tr>\n",
       "    <tr>\n",
       "      <th>14</th>\n",
       "      <td>6/1/2019 7:39</td>\n",
       "      <td>blacknwhitetale</td>\n",
       "      <td>1</td>\n",
       "      <td>#keralafloods happened and crores of money wer...</td>\n",
       "      <td>@PrakashJavdekar @SuPriyoBabulhttps</td>\n",
       "      <td>#keralafloods #climatechange</td>\n",
       "    </tr>\n",
       "  </tbody>\n",
       "</table>\n",
       "</div>"
      ],
      "text/plain": [
       "               date         username  retweets  \\\n",
       "1    6/4/2019 16:10      SRKKeralaFC        30   \n",
       "3     6/3/2019 6:55      JustOutNews         0   \n",
       "5   5/29/2019 14:24   dipalisharma02         5   \n",
       "10  5/28/2019 15:36        vssanakan         4   \n",
       "14    6/1/2019 7:39  blacknwhitetale         1   \n",
       "\n",
       "                                                 text  \\\n",
       "1   Schools are gonna open this week all over Kera...   \n",
       "3   Govt to construct four new dams in Kerala; aim...   \n",
       "5   Chairperson Ms. T.K.Sathi along with Ward Coun...   \n",
       "10  Hearty Congratulations!!! Biji Thomas of @mano...   \n",
       "14  #keralafloods happened and crores of money wer...   \n",
       "\n",
       "                               mentions  \\\n",
       "1                      @SRKCHENNAIFCpic   \n",
       "3         @CPIMKerala @keralagovernment   \n",
       "5            @ActionAidIndia @caretoday   \n",
       "10                        @manoramanews   \n",
       "14  @PrakashJavdekar @SuPriyoBabulhttps   \n",
       "\n",
       "                                             hashtags  \n",
       "1                                       #KeralaFloods  \n",
       "3   #kerala #keralafloods #StateNews #CurrentUpdat...  \n",
       "5                                       #keralafloods  \n",
       "10                                      #KeralaFloods  \n",
       "14                       #keralafloods #climatechange  "
      ]
     },
     "execution_count": 3,
     "metadata": {},
     "output_type": "execute_result"
    }
   ],
   "source": [
    "tweets.dropna(inplace=True)\n",
    "tweets.head()"
   ]
  },
  {
   "cell_type": "markdown",
   "metadata": {},
   "source": [
    "Extracting text from the tweets dataframe\n",
    "\n",
    "Removing URLs, Removing @..., and the hashtags"
   ]
  },
  {
   "cell_type": "code",
   "execution_count": 4,
   "metadata": {},
   "outputs": [
    {
     "name": "stdout",
     "output_type": "stream",
     "text": [
      "Onam holidays for all schools in Kerala will commence from 17th Aug & reopen 29th Aug. Request to align the holidays of Kendriya Vidyalaya schools also to these dates, considering the crisis situation. KeralaFloods\n",
      "\n",
      "Praying for everyone affected by the KeralaFloods. The state really needs our help and every donation, no matter how big or small, will count. Here are some details of how to donate tos distress relief fund and other helpline numbers pic.twitter.com/eezFJRE2Dv\n",
      "\n",
      "Death toll rises to 94 in KeralaFloods and over 160,000 displaced people are in relief camps as appeals for help. â¦\n",
      "\n",
      "Hey Paid Media, keralafloods There is a state called Kerala which is affected by floods, All 44 rivers are overflowing, 33 dams have released waters. Why there is no coverage ? pic.twitter.com/8rmvFTQ1m9\n",
      "\n",
      "Please help the people who have been affected by the floods in Kerala. Spread the word! KeralaFloods StandWithKerala.twitter.com/beLRCe7V07\n",
      "\n",
      "More than 79 dead over 1 Lakh displaced in Kerala and in Delhi doesn't see this as a National Calamity? doesn't have time to visit Kerala Powerless Home Minister sent with Peanuts (100Cr). Shame On You Modi ji! IndiaStandsWithKerala KeralaFloods pic.twitter.com/BZDQnDXCi6\n",
      "\n",
      "There is a Birthday cake picture of being spread. 1. It's from today morning when volunteers went to greet him 2. After cutting the cake, he requested volunteers not to celebrate as Atal ji is not well 3. He requested volunteers to donate to KeralaFloods\n",
      "\n",
      "Keralafloods fishermen from Kollam who carried out rescue operations in Pathanamthitta.twitter.com/puOW0psOsM\n",
      "\n",
      ". has donated 10 Lakhs to the Kerala CM distress relief fund for KeralaFloodRelief KeralaFloods\n",
      "\n",
      "We urge all our fellows & friends to urgently support the ongoing relief efforts in Kerala. Many have lost their lives and many more are stranded in temporary shelters. Please support by generously donating to's relief fund. KeralaFloods \n",
      "\n",
      "Producer BunnyVas announces on behalf of that the total share that GeethaGovindam shall collect from Kerala, will be donated towards KeralaFloodRelief.. Such a noble gesture .. KeralaFloods\n",
      "\n",
      "The only Indian English channel doing justice to the KeralaFloods is. The rest don't deserve to be called \"national\" media. Watch Sneha Mary Koshy's unrelenting and sensible coverage .\n",
      "\n",
      "General procedure to get help in KeralaFloods 0. Do not panic. 1. Get coordinates. Use WhatsApp location sharing or Google Maps to get it, or call 1077. 2. Call regional helpline numbers and inform them the coordinates. 3. Not working? Call at 0471-2333812, 233682.\n",
      "\n",
      "Producer Bunny Vas announces on behalf of the total share of GeethaGovindam collects in Kerala will be donated to KeralaFloodRelief KeralaFloods pic.twitter.com/lnPPoZ3FEQ\n",
      "\n",
      "OpMadad KeralaFloodRelief keralafloods Flight Diver Amit rescues a small child from Aluva. Pilot in Command Cdr Vijay Verma.twitter.com/UQmf5rYu27\n",
      "\n",
      "Modi government's 1. Ad spend: 4300 crores 2. Kumbh Mela allocation: 4200 crores 3. Shivaji statue: 3600 crores 4. Patel statue: 2989 crores 5. PM's foreign trips: 1484 crores 6. Gujarat flood relief: 500 crores 7. Kerala flood relief: 100 crores KeralaFloods\n",
      "\n",
      "My dear friends in Bollywood please be generous in helping my state.Every gesture counts millions now KeralaFloods.twitter.com/qGEF6UPct5\n",
      "\n",
      "Just met the honâble CM of Kerala. I understand the state needs more funds than relief material. Please donate generously to âCMDRFâ. Keralafloods CMDRF.twitter.com/hyV2AG1YA5\n",
      "\n",
      "A huge disaster seems to be unfolding in Kerala. Water levels still rising in many places. Time for every one of us to provide whatever support & help we can. And media friends, a sincere request NO POLITICS PLEASE. now is the time to help save lives KeralaFloods\n",
      "\n",
      "This is the fury Kerala's dealing with at the moment. Ground slipping away from below. The people need all the help they can get. Video from Kottiyoor in Kannur Please contribute. Spread the word. Payment gateway:  UPI ID: keralacmdrf@sbi KeralaFloods pic.twitter.com/iJHkBvzg6p\n",
      "\n",
      "OpMadad KeralaFloodRelief keralafloods Deployment of IndianNavy relief teams in Kerala as of 1400h/ 16 Aug..twitter.com/qKjrs72GVx\n",
      "\n",
      "IAF airlifts a person during rescue operations in flood-affected Varkala, Kerala KeralaFloods.twitter.com/2ShcJzpwKp\n",
      "\n",
      "Please contribute to the Kerala Chief Minister Distress Relief Fund. Help them rebuild their State. KeralaFloodRelief KeralaFloods \n",
      "\n",
      "Emergency numbers...Share Max KeralaFloods.twitter.com/xP6oWBs4R1\n",
      "\n",
      "Saty safe friends Only 4Hrs Diffrnce b/w these two picsHouse@Ranni,Pathanamthitta district Heavy Rain continues Horrible conditions here in kerala KeralaFloodRelief KeralaFloods.twitter.com/33wftqu1si\n",
      "\n",
      "Horrible visuals of landslide in Kottiyoor, Kannur district. This visuals will make us aware how drastic the situation in Kerala is. Hope the man who shot this video is safe. KeralaFloods.twitter.com/gTzQ3WCXVE\n",
      "\n",
      "If it's North, Modi will be there within few days.. But, If it's South, Modi will visit after few months.. Help Kerala not in words like pray to god and your fake promises.. Leave it.. Please! Work on ground KeralaFloods\n",
      "\n",
      "Dropped into the newsroom of to commend them on their exemplary 24x7 coverage of the KeralaFloods. They pulled all commercials & ad breaks to cover the unfolding crisis in a remarkable demonstration of commitment to news above profit. May our media ever improve! pic.twitter.com/XPDE1tQi3Z\n",
      "\n",
      ". came out at his residence to meet supporters and urged them not to celebrate his birthday this year owing to AtalBihariVajpayee's critical health and KeralaFloods. He also urged them to donate generously to help those in need in Kerala.  â¦pic.twitter.com/PiWsoUNwPA\n",
      "\n",
      "Firstly, their coverage of KeralaFloods is nonexistent. And when they finally get off their asses, they spin it to please their lords. Not one of your pathetic govts could handle this situation the way our government is. you are truly the Arnab of India Today!pic.twitter.com/RIPCBEt2Mh\n",
      "\n",
      "Hoping n requesting our Tamil Nadu government to send rescue team with choppers to Kerala extending our support in this crucial hour of need.For it has gone beyond sending relief material to rescuing people for life. KeralaFloods.twitter.com/2UcC2Ct06G\n",
      "\n",
      "KeralaFloods2018. Column of 13 Garhwal Rifle rescued 23 civilians from HIL colony in Eloor, Ernakulam District. Column used ingenuity and modified tubes and utensils to rescue ladies and children. WillNotLeaveBehindAnyone KeralaFloods OpMadad.twitter.com/1fDm0i1wwh\n",
      "\n",
      "We pray that God must show mercy on it's own country 'Kerala'. Our thoughts and prayers for the tragic loss of lives in the torrential rains leading to grim flood situation. We plead to the nation to provide their generous support in relief measures. KeralaFloods\n",
      "\n",
      "Call received from and Hon. MP seeking help of and for relief work in KeralaFloods. Assured them that instructions are for extending immediate help. Every help.\n",
      "\n",
      "Hon spoke requesting for more boats, life jackets etc. Have instructed Def. Secretary to respond immediately. Awaiting the list from Chief Secretary, Kerala. There shall be no delay from our side. Additional helicopters being deployed. KeralaFloods\n",
      "\n",
      "Dear I hv been recvng frantic rqsts for helicoptrs n boats to reach n rescue trappd residnts in Aranmula, Kozhencherry, Raanki taluks. Details fwding to ur office. Pls respnd urgntly. Cc: KeralaFloods\n",
      "\n",
      "Major mobilisation by for KeralaFloods. Southern Naval Command suspends ALL training activity, puts all resources on STATE-1 alert for rescue/relief â highest readiness state for peacetime. Resources also arriving from Eastern & Western naval commands. pic.twitter.com/DmGSKiCKuM\n",
      "\n",
      "Stay safe, Kerala! cartoon KeralaFloods pic.twitter.com/ZoA9tuSboe\n",
      "\n",
      "Since people are struggling to pass on their exact location with the rescuers, Kerala State Disaster Management Authority has released numbers to ping them with your location. pic.twitter.com/4iKOiHksUK Excellent idea. KeralaFloodRelief KeralaFloods Via\n",
      "\n",
      "KeralaFloods situation has worsened. Even the situation in the capital Thiruvananthapuram is like this. is continuously trying to reach out to people under distress and provide all kinds of relief.pic.twitter.com/wlLQNpoHLl\n",
      "\n",
      "Urge to immediately authorize all MPs to donate upto 25 lakhs each from their MPLADS funds for KeralaFloods relief, on behalf of the compassionate people they represent. There are several precedents, eg floods in Uttarakhand, Tamil Nadu. Pls don't delay!\n"
     ]
    },
    {
     "name": "stdout",
     "output_type": "stream",
     "text": [
      "\n",
      "National media coverage has been grossly inadequate compared to the gravity of the situation in Kerala, said Congress MP. Out of water, food and electricity, many Malayalis have been sharing their difficulties on social media KeralaFloods  â¦\n",
      "\n",
      "KeralaFloods salute.twitter.com/bJrTXVkAdM\n",
      "\n",
      "Prayers are always good but in times of dire need and suffering we all can do more. Right now the victims and families of the KeralaFloods need our help. Letâs show them that we StandWithKerala. Even a small contribution to Keralaâs CMDRF would go a long way..twitter.com/UFQCVL3G3x\n",
      "\n",
      "Girona FC wants to express its solidarity with the citizens of Kerala, who have suffered serious floods these days. Our thoughts are with you. KeralaFloods pic.twitter.com/uNT1lpRPpZ\n",
      "\n",
      "AlluArjun donates big for Kerala relief measures  â¦ KeralaFloodRelief KeralaFloods pic.twitter.com/pJtYR4iQQQ\n",
      "\n",
      "Stylish Star who is very popular in Kerala pledges 25 Lakhs donation to Kerala Chief Minister Disaster Relief fund.. A noble and generous gesture.. KeralaFloods\n",
      "\n",
      "Our thoughts are with our friends in Kerala impacted by the flash floods that have hit the area. KeralaFloods pic.twitter.com/MuGMrNP81j\n",
      "\n",
      "RT & SHARE KeralaFloods Helpline Numbers kerala Chief Ministerâs Distress Relief Fund A/c No : 67319948232 Bank : SBI City Branch, TVM IFSC : SBIN0070028 Help kerala.twitter.com/EZF04JdFN1\n",
      "\n",
      "â¢ We NorthChennaiSFC planning To Send 10K Biscuit Packets & 5K Milk Powder Packets to Kerala for Flood Relief Camp ..As Of Now 4K Biscuit Packets & 500 Milkpowder Packets are ready! Will update about it soon KeralaFloods KeralaRains.twitter.com/cfL32rQIML\n",
      "\n",
      "Home Minister to visit the flood-affected areas of Kerala today. 14 NDRF teams deployed; seven rescued, 398 others and 12 livestock evacuated  â¦ KeralaFloods KeralaFloodReliefpic.twitter.com/Xl2bCCofiJ\n",
      "\n",
      "Today when is helping citizens struck in KeralaFloods where are the leftist & ?? Busy campaigning for elections in Rajasthan And they named RSS as Hindu terrorism I am proud of helping all irrespective of religion or caste.\n",
      "\n",
      "Nammavar & donate â¹50 lacs [â¹25L each] to the Chief Ministers Distress Relief Fund Kerala. Great gesture KeralaFloods2018 KeralaFloodRelief KeralaFloods pic.twitter.com/6XfiOybSyX\n",
      "\n",
      "The hero of the day is Kanayya Kumar(Bihar), a personel who risked himself to save a child. The above frame is the current talking point in Kerala. KeralaFloods pic.twitter.com/aPbvz4MJpu\n",
      "\n",
      "Kerala Christians and Muslims are well known for their hatred of Hindus. With most of Kerala under water, they have no problems accepting help from the and other Sanghis. KeralaFloods pic.twitter.com/kjEjfBrhbO\n",
      "\n",
      "Instant Response by and donate to rain ravaged KeralaFloods KeralaFloodRelief â¦\n",
      "\n",
      "Actors and donate 25 Lakhs to Kerala Chief Minister Disaster Relief fund to help the people affected by KeralaFloods Great gesture\n",
      "\n",
      "Kudos and for standing up to a worrying issue. The brothers have donated INR 25 lakhs towards the KeralaFloods relief fund.\n",
      "\n",
      "Generous brothers, & have contributed a total of 25 lakhs to the Kerala CM relief fund, for the KeralaFloods\n",
      "\n",
      "Wonderful gesture by brothers and . They have donated 25 lakhs for KeralaFloods relief work !! Long live both !! . pic.twitter.com/X8tZemSFtG\n",
      "\n",
      "BREAKING : In response to KeralaFloods happening now, & has announced to donate a sum of 25 lakhs to Chief minister's distress relief fund!! KeralaFloodRelief\n",
      "\n",
      ". & donates 25 lakhs to Kerala people for KeralaFloods ! pic.twitter.com/6JNfZT4MKh\n",
      "\n",
      "Superstar fans have sent relief materials to those affected by KeralaFloods Kudos to the Team.. pic.twitter.com/TKmWWafHIE\n",
      "\n",
      "RSS Swayamsevaks rushed in for rescue works at various Flood hit zones in Kerala, helped and served the flood effected Citizens with Food, Shelter etc. KeralaFloods KeralaRain.twitter.com/8SP7kB4wEL\n",
      "\n",
      ". is extending all possible assistance to the people affected by landslides and KeralaFloods through Humanitarian Assistance Disaster Relief HADR missions. IAF will continue to provide HADR till the situation is normalized. FloodRelief  pic.twitter.com/kTWk3l0g9s\n",
      "\n",
      "Whatever it Takes. Salute KeralaFloods pic.twitter.com/4ced62NgwW\n",
      "\n",
      "â¢ Stay Safe Everyone..Here are the Helpline Numbers..! Share KeralaFloods KeralaRains.twitter.com/9W7ZpMnKP9\n",
      "\n",
      "KeralaRain One shutter of the Cheruthoni Dam, a part of the dam system of the Idukki hydel reservoir, opened after 26 years, following heavy rains. KeralaFloods.twitter.com/QgcjLmMxVK\n",
      "\n",
      "20 people die in Kerala owing to flooding and landslides following heavy and incessant rains keralarains KeralaFloods\n",
      "\n",
      "Kerala hits heavy rains. KeralaFloods 13 deaths reported and 8 missing across the states. Dams shutter opened to lesser calamity. Huge loses incurred. have taken measures to ensure safety and minimise lose. A new state development plan should be created for future.pic.twitter.com/PImfwnfUF5\n",
      "\n"
     ]
    }
   ],
   "source": [
    "tweets.text = tweets.text.apply(lambda x: re.sub(u'https:\\S+', u'', x))\n",
    "tweets.text = tweets.text.apply(lambda x: re.sub(u'http:\\S+', u'', x))\n",
    "tweets.text = tweets.text.apply(lambda x: re.sub(u'(\\s)@\\w+', u'', x))\n",
    "tweets.text = tweets.text.apply(lambda x: re.sub(u'#', u'', x))\n",
    "for text in tweets.text.tail(70):\n",
    "    print(text + '\\n')"
   ]
  },
  {
   "cell_type": "markdown",
   "metadata": {},
   "source": [
    "## Tokenizing with nltk"
   ]
  },
  {
   "cell_type": "code",
   "execution_count": 5,
   "metadata": {},
   "outputs": [
    {
     "data": {
      "text/plain": [
       "['Death',\n",
       " 'toll',\n",
       " 'rises',\n",
       " 'to',\n",
       " '94',\n",
       " 'in',\n",
       " 'KeralaFloods',\n",
       " 'and',\n",
       " 'over',\n",
       " '160,000',\n",
       " 'displaced',\n",
       " 'people',\n",
       " 'are',\n",
       " 'in',\n",
       " 'relief',\n",
       " 'camps',\n",
       " 'as',\n",
       " 'appeals',\n",
       " 'for',\n",
       " 'help',\n",
       " '.',\n",
       " 'â',\n",
       " '\\x80',\n",
       " '¦']"
      ]
     },
     "execution_count": 5,
     "metadata": {},
     "output_type": "execute_result"
    }
   ],
   "source": [
    "tknzr = TweetTokenizer()\n",
    "\n",
    "nltk_tweets = []\n",
    "for text in tweets.text:\n",
    "    nltk_tweets.append(tknzr.tokenize(text))\n",
    "nltk_tweets[-68]"
   ]
  },
  {
   "cell_type": "code",
   "execution_count": 6,
   "metadata": {},
   "outputs": [],
   "source": [
    "#nltk.download()"
   ]
  },
  {
   "cell_type": "markdown",
   "metadata": {},
   "source": [
    "Using POS tagger to get the array of various part of speech in the tweet"
   ]
  },
  {
   "cell_type": "code",
   "execution_count": 7,
   "metadata": {},
   "outputs": [
    {
     "name": "stdout",
     "output_type": "stream",
     "text": [
      "[('Death', 'NNP'),\n",
      " ('toll', 'NN'),\n",
      " ('rises', 'VBZ'),\n",
      " ('to', 'TO'),\n",
      " ('94', 'CD'),\n",
      " ('in', 'IN'),\n",
      " ('KeralaFloods', 'NNS'),\n",
      " ('and', 'CC'),\n",
      " ('over', 'IN'),\n",
      " ('160,000', 'CD'),\n",
      " ('displaced', 'JJ'),\n",
      " ('people', 'NNS'),\n",
      " ('are', 'VBP'),\n",
      " ('in', 'IN'),\n",
      " ('relief', 'NN'),\n",
      " ('camps', 'NNS'),\n",
      " ('as', 'IN'),\n",
      " ('appeals', 'NNS'),\n",
      " ('for', 'IN'),\n",
      " ('help', 'NN'),\n",
      " ('.', '.'),\n",
      " ('â', 'VB'),\n",
      " ('\\x80', 'JJ'),\n",
      " ('¦', 'NN')]\n"
     ]
    }
   ],
   "source": [
    "nltk_pos = []\n",
    "\n",
    "for text in nltk_tweets:\n",
    "    nltk_pos.append(pos_tag(text))\n",
    "pprint(nltk_pos[-68])\n",
    "#print(ne_chunk(nltk_pos[-68]))"
   ]
  },
  {
   "cell_type": "markdown",
   "metadata": {},
   "source": [
    "Tried Named entity recognition using NLTK but not accurate"
   ]
  },
  {
   "cell_type": "code",
   "execution_count": 8,
   "metadata": {},
   "outputs": [],
   "source": [
    "#pattern = 'NP: {<DT>?<JJ>*<NN>}'\n",
    "#cp = nltk.RegexpParser(pattern)\n",
    "#cs = cp.parse(nltk_pos[-68])\n",
    "#print(cs)"
   ]
  },
  {
   "cell_type": "code",
   "execution_count": 9,
   "metadata": {},
   "outputs": [],
   "source": [
    "#iob_tagged= tree2conlltags(cs)\n",
    "#pprint(iob_tagged)"
   ]
  },
  {
   "cell_type": "markdown",
   "metadata": {},
   "source": [
    "Now using Stanford Natural Processing!!\n",
    "First, we will set the config_java file for nltk"
   ]
  },
  {
   "cell_type": "code",
   "execution_count": 12,
   "metadata": {},
   "outputs": [
    {
     "data": {
      "text/plain": [
       "[('Death', 'O'),\n",
       " ('toll', 'O'),\n",
       " ('rises', 'O'),\n",
       " ('to', 'O'),\n",
       " ('94', 'O'),\n",
       " ('in', 'O'),\n",
       " ('KeralaFloods', 'O'),\n",
       " ('and', 'O'),\n",
       " ('over', 'O'),\n",
       " ('160,000', 'O'),\n",
       " ('displaced', 'O'),\n",
       " ('people', 'O'),\n",
       " ('are', 'O'),\n",
       " ('in', 'O'),\n",
       " ('relief', 'O'),\n",
       " ('camps', 'O'),\n",
       " ('as', 'O'),\n",
       " ('appeals', 'O'),\n",
       " ('for', 'O'),\n",
       " ('help', 'O'),\n",
       " ('.', 'O'),\n",
       " ('â', 'O'),\n",
       " ('\\x80', 'O'),\n",
       " ('¦', 'O')]"
      ]
     },
     "execution_count": 12,
     "metadata": {},
     "output_type": "execute_result"
    }
   ],
   "source": [
    "nltk.internals.config_java(\"C:/Program Files/Java/jdk-12.0.1/bin/java.exe\")\n",
    "st = StanfordNERTagger('C:\\Twitter-Mining\\stanford-ner-2018-10-16\\classifiers\\english.all.3class.distsim.crf.ser.gz',\n",
    "           'C:\\Twitter-Mining\\stanford-ner-2018-10-16\\stanford-ner.jar', encoding='utf-8')\n",
    "st.tag(nltk_tweets[-68])"
   ]
  },
  {
   "cell_type": "code",
   "execution_count": null,
   "metadata": {},
   "outputs": [],
   "source": []
  },
  {
   "cell_type": "code",
   "execution_count": null,
   "metadata": {},
   "outputs": [],
   "source": []
  }
 ],
 "metadata": {
  "kernelspec": {
   "display_name": "Python 3",
   "language": "python",
   "name": "python3"
  },
  "language_info": {
   "codemirror_mode": {
    "name": "ipython",
    "version": 3
   },
   "file_extension": ".py",
   "mimetype": "text/x-python",
   "name": "python",
   "nbconvert_exporter": "python",
   "pygments_lexer": "ipython3",
   "version": "3.7.3"
  }
 },
 "nbformat": 4,
 "nbformat_minor": 2
}
